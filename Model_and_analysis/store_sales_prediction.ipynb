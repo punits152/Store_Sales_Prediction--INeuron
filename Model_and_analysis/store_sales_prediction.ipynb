{
 "cells": [
  {
   "cell_type": "markdown",
   "id": "fe10db67",
   "metadata": {},
   "source": [
    "## AIM: \n",
    "To predict sales for an item in a perticular store. So there will be data about the item and the store."
   ]
  },
  {
   "cell_type": "code",
   "execution_count": 73,
   "id": "febe6fca",
   "metadata": {},
   "outputs": [],
   "source": [
    "import pandas as pd\n",
    "import numpy as np\n",
    "import pandas_profiling as ppf\n",
    "\n",
    "import seaborn as sns\n",
    "import matplotlib.pyplot as plt\n",
    "%matplotlib inline\n",
    "\n",
    "# Model Creation\n",
    "import sklearn.metrics as metrics\n",
    "from sklearn.model_selection import train_test_split\n",
    "from statsmodels.stats.outliers_influence import variance_inflation_factor\n",
    "import statsmodels.formula.api as smf\n",
    "from sklearn import preprocessing\n",
    "\n",
    "\n",
    "\n",
    "from sklearn.linear_model import LinearRegression\n",
    "from sklearn.linear_model import Ridge\n",
    "\n",
    "from sklearn.ensemble import ExtraTreesRegressor\n",
    "from sklearn.metrics import mean_squared_error\n",
    "\n",
    "\n"
   ]
  },
  {
   "cell_type": "code",
   "execution_count": 2,
   "id": "fab90123",
   "metadata": {},
   "outputs": [],
   "source": [
    "sales_data = pd.read_csv(\"data/Train.csv\")\n",
    "to_predict = pd.read_csv(\"data/Test.csv\")"
   ]
  },
  {
   "cell_type": "markdown",
   "id": "0ea9a211",
   "metadata": {},
   "source": [
    "sales_data contains the labelled data to build the model on it contain dependent variable(sales) and all the features\n",
    "to_predict is the one on which we have to apply the data and make the predictions."
   ]
  },
  {
   "cell_type": "code",
   "execution_count": 3,
   "id": "9d04f9bc",
   "metadata": {
    "scrolled": true
   },
   "outputs": [
    {
     "data": {
      "text/html": [
       "<div>\n",
       "<style scoped>\n",
       "    .dataframe tbody tr th:only-of-type {\n",
       "        vertical-align: middle;\n",
       "    }\n",
       "\n",
       "    .dataframe tbody tr th {\n",
       "        vertical-align: top;\n",
       "    }\n",
       "\n",
       "    .dataframe thead th {\n",
       "        text-align: right;\n",
       "    }\n",
       "</style>\n",
       "<table border=\"1\" class=\"dataframe\">\n",
       "  <thead>\n",
       "    <tr style=\"text-align: right;\">\n",
       "      <th></th>\n",
       "      <th>Item_Identifier</th>\n",
       "      <th>Item_Weight</th>\n",
       "      <th>Item_Fat_Content</th>\n",
       "      <th>Item_Visibility</th>\n",
       "      <th>Item_Type</th>\n",
       "      <th>Item_MRP</th>\n",
       "      <th>Outlet_Identifier</th>\n",
       "      <th>Outlet_Establishment_Year</th>\n",
       "      <th>Outlet_Size</th>\n",
       "      <th>Outlet_Location_Type</th>\n",
       "      <th>Outlet_Type</th>\n",
       "      <th>Item_Outlet_Sales</th>\n",
       "    </tr>\n",
       "  </thead>\n",
       "  <tbody>\n",
       "    <tr>\n",
       "      <th>0</th>\n",
       "      <td>FDA15</td>\n",
       "      <td>9.30</td>\n",
       "      <td>Low Fat</td>\n",
       "      <td>0.016047</td>\n",
       "      <td>Dairy</td>\n",
       "      <td>249.8092</td>\n",
       "      <td>OUT049</td>\n",
       "      <td>1999</td>\n",
       "      <td>Medium</td>\n",
       "      <td>Tier 1</td>\n",
       "      <td>Supermarket Type1</td>\n",
       "      <td>3735.1380</td>\n",
       "    </tr>\n",
       "    <tr>\n",
       "      <th>1</th>\n",
       "      <td>DRC01</td>\n",
       "      <td>5.92</td>\n",
       "      <td>Regular</td>\n",
       "      <td>0.019278</td>\n",
       "      <td>Soft Drinks</td>\n",
       "      <td>48.2692</td>\n",
       "      <td>OUT018</td>\n",
       "      <td>2009</td>\n",
       "      <td>Medium</td>\n",
       "      <td>Tier 3</td>\n",
       "      <td>Supermarket Type2</td>\n",
       "      <td>443.4228</td>\n",
       "    </tr>\n",
       "    <tr>\n",
       "      <th>2</th>\n",
       "      <td>FDN15</td>\n",
       "      <td>17.50</td>\n",
       "      <td>Low Fat</td>\n",
       "      <td>0.016760</td>\n",
       "      <td>Meat</td>\n",
       "      <td>141.6180</td>\n",
       "      <td>OUT049</td>\n",
       "      <td>1999</td>\n",
       "      <td>Medium</td>\n",
       "      <td>Tier 1</td>\n",
       "      <td>Supermarket Type1</td>\n",
       "      <td>2097.2700</td>\n",
       "    </tr>\n",
       "    <tr>\n",
       "      <th>3</th>\n",
       "      <td>FDX07</td>\n",
       "      <td>19.20</td>\n",
       "      <td>Regular</td>\n",
       "      <td>0.000000</td>\n",
       "      <td>Fruits and Vegetables</td>\n",
       "      <td>182.0950</td>\n",
       "      <td>OUT010</td>\n",
       "      <td>1998</td>\n",
       "      <td>NaN</td>\n",
       "      <td>Tier 3</td>\n",
       "      <td>Grocery Store</td>\n",
       "      <td>732.3800</td>\n",
       "    </tr>\n",
       "    <tr>\n",
       "      <th>4</th>\n",
       "      <td>NCD19</td>\n",
       "      <td>8.93</td>\n",
       "      <td>Low Fat</td>\n",
       "      <td>0.000000</td>\n",
       "      <td>Household</td>\n",
       "      <td>53.8614</td>\n",
       "      <td>OUT013</td>\n",
       "      <td>1987</td>\n",
       "      <td>High</td>\n",
       "      <td>Tier 3</td>\n",
       "      <td>Supermarket Type1</td>\n",
       "      <td>994.7052</td>\n",
       "    </tr>\n",
       "  </tbody>\n",
       "</table>\n",
       "</div>"
      ],
      "text/plain": [
       "  Item_Identifier  Item_Weight Item_Fat_Content  Item_Visibility  \\\n",
       "0           FDA15         9.30          Low Fat         0.016047   \n",
       "1           DRC01         5.92          Regular         0.019278   \n",
       "2           FDN15        17.50          Low Fat         0.016760   \n",
       "3           FDX07        19.20          Regular         0.000000   \n",
       "4           NCD19         8.93          Low Fat         0.000000   \n",
       "\n",
       "               Item_Type  Item_MRP Outlet_Identifier  \\\n",
       "0                  Dairy  249.8092            OUT049   \n",
       "1            Soft Drinks   48.2692            OUT018   \n",
       "2                   Meat  141.6180            OUT049   \n",
       "3  Fruits and Vegetables  182.0950            OUT010   \n",
       "4              Household   53.8614            OUT013   \n",
       "\n",
       "   Outlet_Establishment_Year Outlet_Size Outlet_Location_Type  \\\n",
       "0                       1999      Medium               Tier 1   \n",
       "1                       2009      Medium               Tier 3   \n",
       "2                       1999      Medium               Tier 1   \n",
       "3                       1998         NaN               Tier 3   \n",
       "4                       1987        High               Tier 3   \n",
       "\n",
       "         Outlet_Type  Item_Outlet_Sales  \n",
       "0  Supermarket Type1          3735.1380  \n",
       "1  Supermarket Type2           443.4228  \n",
       "2  Supermarket Type1          2097.2700  \n",
       "3      Grocery Store           732.3800  \n",
       "4  Supermarket Type1           994.7052  "
      ]
     },
     "execution_count": 3,
     "metadata": {},
     "output_type": "execute_result"
    }
   ],
   "source": [
    "sales_data.head()"
   ]
  },
  {
   "cell_type": "code",
   "execution_count": 4,
   "id": "1462681c",
   "metadata": {},
   "outputs": [
    {
     "name": "stdout",
     "output_type": "stream",
     "text": [
      "<class 'pandas.core.frame.DataFrame'>\n",
      "RangeIndex: 8523 entries, 0 to 8522\n",
      "Data columns (total 12 columns):\n",
      " #   Column                     Non-Null Count  Dtype  \n",
      "---  ------                     --------------  -----  \n",
      " 0   Item_Identifier            8523 non-null   object \n",
      " 1   Item_Weight                7060 non-null   float64\n",
      " 2   Item_Fat_Content           8523 non-null   object \n",
      " 3   Item_Visibility            8523 non-null   float64\n",
      " 4   Item_Type                  8523 non-null   object \n",
      " 5   Item_MRP                   8523 non-null   float64\n",
      " 6   Outlet_Identifier          8523 non-null   object \n",
      " 7   Outlet_Establishment_Year  8523 non-null   int64  \n",
      " 8   Outlet_Size                6113 non-null   object \n",
      " 9   Outlet_Location_Type       8523 non-null   object \n",
      " 10  Outlet_Type                8523 non-null   object \n",
      " 11  Item_Outlet_Sales          8523 non-null   float64\n",
      "dtypes: float64(4), int64(1), object(7)\n",
      "memory usage: 799.2+ KB\n"
     ]
    }
   ],
   "source": [
    "sales_data.info()"
   ]
  },
  {
   "cell_type": "markdown",
   "id": "3f5c18cc",
   "metadata": {},
   "source": [
    "## Numerical Variables"
   ]
  },
  {
   "cell_type": "code",
   "execution_count": 5,
   "id": "58176287",
   "metadata": {},
   "outputs": [
    {
     "data": {
      "text/plain": [
       "Item_Weight                  0.014123\n",
       "Item_Visibility             -0.128625\n",
       "Item_MRP                     0.567574\n",
       "Outlet_Establishment_Year   -0.049135\n",
       "Item_Outlet_Sales            1.000000\n",
       "dtype: float64"
      ]
     },
     "execution_count": 5,
     "metadata": {},
     "output_type": "execute_result"
    }
   ],
   "source": [
    "sales_data.corrwith(sales_data.Item_Outlet_Sales)"
   ]
  },
  {
   "cell_type": "code",
   "execution_count": 6,
   "id": "219f1d24",
   "metadata": {},
   "outputs": [
    {
     "data": {
      "text/html": [
       "<div>\n",
       "<style scoped>\n",
       "    .dataframe tbody tr th:only-of-type {\n",
       "        vertical-align: middle;\n",
       "    }\n",
       "\n",
       "    .dataframe tbody tr th {\n",
       "        vertical-align: top;\n",
       "    }\n",
       "\n",
       "    .dataframe thead th {\n",
       "        text-align: right;\n",
       "    }\n",
       "</style>\n",
       "<table border=\"1\" class=\"dataframe\">\n",
       "  <thead>\n",
       "    <tr style=\"text-align: right;\">\n",
       "      <th></th>\n",
       "      <th>Item_Weight</th>\n",
       "      <th>Item_Visibility</th>\n",
       "      <th>Item_MRP</th>\n",
       "      <th>Outlet_Establishment_Year</th>\n",
       "      <th>Item_Outlet_Sales</th>\n",
       "    </tr>\n",
       "  </thead>\n",
       "  <tbody>\n",
       "    <tr>\n",
       "      <th>Item_Weight</th>\n",
       "      <td>1.000000</td>\n",
       "      <td>-0.014048</td>\n",
       "      <td>0.027141</td>\n",
       "      <td>-0.011588</td>\n",
       "      <td>0.014123</td>\n",
       "    </tr>\n",
       "    <tr>\n",
       "      <th>Item_Visibility</th>\n",
       "      <td>-0.014048</td>\n",
       "      <td>1.000000</td>\n",
       "      <td>-0.001315</td>\n",
       "      <td>-0.074834</td>\n",
       "      <td>-0.128625</td>\n",
       "    </tr>\n",
       "    <tr>\n",
       "      <th>Item_MRP</th>\n",
       "      <td>0.027141</td>\n",
       "      <td>-0.001315</td>\n",
       "      <td>1.000000</td>\n",
       "      <td>0.005020</td>\n",
       "      <td>0.567574</td>\n",
       "    </tr>\n",
       "    <tr>\n",
       "      <th>Outlet_Establishment_Year</th>\n",
       "      <td>-0.011588</td>\n",
       "      <td>-0.074834</td>\n",
       "      <td>0.005020</td>\n",
       "      <td>1.000000</td>\n",
       "      <td>-0.049135</td>\n",
       "    </tr>\n",
       "    <tr>\n",
       "      <th>Item_Outlet_Sales</th>\n",
       "      <td>0.014123</td>\n",
       "      <td>-0.128625</td>\n",
       "      <td>0.567574</td>\n",
       "      <td>-0.049135</td>\n",
       "      <td>1.000000</td>\n",
       "    </tr>\n",
       "  </tbody>\n",
       "</table>\n",
       "</div>"
      ],
      "text/plain": [
       "                           Item_Weight  Item_Visibility  Item_MRP  \\\n",
       "Item_Weight                   1.000000        -0.014048  0.027141   \n",
       "Item_Visibility              -0.014048         1.000000 -0.001315   \n",
       "Item_MRP                      0.027141        -0.001315  1.000000   \n",
       "Outlet_Establishment_Year    -0.011588        -0.074834  0.005020   \n",
       "Item_Outlet_Sales             0.014123        -0.128625  0.567574   \n",
       "\n",
       "                           Outlet_Establishment_Year  Item_Outlet_Sales  \n",
       "Item_Weight                                -0.011588           0.014123  \n",
       "Item_Visibility                            -0.074834          -0.128625  \n",
       "Item_MRP                                    0.005020           0.567574  \n",
       "Outlet_Establishment_Year                   1.000000          -0.049135  \n",
       "Item_Outlet_Sales                          -0.049135           1.000000  "
      ]
     },
     "execution_count": 6,
     "metadata": {},
     "output_type": "execute_result"
    }
   ],
   "source": [
    "sales_data.corr()"
   ]
  },
  {
   "cell_type": "code",
   "execution_count": 7,
   "id": "8c69a1b6",
   "metadata": {},
   "outputs": [
    {
     "name": "stderr",
     "output_type": "stream",
     "text": [
      "F:\\1_Softwares_Installed\\Anaconda\\lib\\site-packages\\seaborn\\distributions.py:2557: FutureWarning: `distplot` is a deprecated function and will be removed in a future version. Please adapt your code to use either `displot` (a figure-level function with similar flexibility) or `histplot` (an axes-level function for histograms).\n",
      "  warnings.warn(msg, FutureWarning)\n"
     ]
    },
    {
     "data": {
      "text/plain": [
       "<AxesSubplot:xlabel='Item_Outlet_Sales', ylabel='Density'>"
      ]
     },
     "execution_count": 7,
     "metadata": {},
     "output_type": "execute_result"
    },
    {
     "data": {
      "image/png": "[encoded data removed]",
      "text/plain": [
       "<Figure size 432x288 with 1 Axes>"
      ]
     },
     "metadata": {
      "needs_background": "light"
     },
     "output_type": "display_data"
    }
   ],
   "source": [
    "## Distributin of Item_Outlet_Sales\n",
    "sns.distplot(sales_data.Item_Outlet_Sales)"
   ]
  },
  {
   "cell_type": "code",
   "execution_count": 8,
   "id": "cb982c7f",
   "metadata": {},
   "outputs": [
    {
     "name": "stderr",
     "output_type": "stream",
     "text": [
      "F:\\1_Softwares_Installed\\Anaconda\\lib\\site-packages\\seaborn\\distributions.py:2557: FutureWarning: `distplot` is a deprecated function and will be removed in a future version. Please adapt your code to use either `displot` (a figure-level function with similar flexibility) or `histplot` (an axes-level function for histograms).\n",
      "  warnings.warn(msg, FutureWarning)\n"
     ]
    },
    {
     "data": {
      "text/plain": [
       "<AxesSubplot:xlabel='Item_Outlet_Sales', ylabel='Density'>"
      ]
     },
     "execution_count": 8,
     "metadata": {},
     "output_type": "execute_result"
    },
    {
     "data": {
      "image/png": "[encoded data removed]",
      "text/plain": [
       "<Figure size 432x288 with 1 Axes>"
      ]
     },
     "metadata": {
      "needs_background": "light"
     },
     "output_type": "display_data"
    }
   ],
   "source": [
    "# Distribution is not noraml, checking log of it\n",
    "sns.distplot(np.log(sales_data.Item_Outlet_Sales)+2)"
   ]
  },
  {
   "cell_type": "markdown",
   "id": "3bb5d8f6",
   "metadata": {},
   "source": [
    "### Categorical Variables"
   ]
  },
  {
   "cell_type": "code",
   "execution_count": 9,
   "id": "ee1465f3",
   "metadata": {
    "scrolled": false
   },
   "outputs": [
    {
     "name": "stdout",
     "output_type": "stream",
     "text": [
      "Item_Fat_Content :  5\n",
      "Item_Type :  16\n",
      "Outlet_Establishment_Year :  9\n",
      "Outlet_Identifier :  10\n",
      "Outlet_Type :  4\n",
      "Outlet_Location_Type :  3\n"
     ]
    }
   ],
   "source": [
    "# These are the categorical variables we have\n",
    "for col in [\"Item_Fat_Content\",\"Item_Type\",\"Outlet_Establishment_Year\",\"Outlet_Identifier\",\"Outlet_Type\",\"Outlet_Location_Type\"]:\n",
    "    print(col,\": \",len(sales_data[col].unique()))"
   ]
  },
  {
   "cell_type": "code",
   "execution_count": 10,
   "id": "6710cc80",
   "metadata": {},
   "outputs": [
    {
     "data": {
      "text/plain": [
       "array(['Low Fat', 'Regular', 'low fat', 'LF', 'reg'], dtype=object)"
      ]
     },
     "execution_count": 10,
     "metadata": {},
     "output_type": "execute_result"
    }
   ],
   "source": [
    "# There seems some problem with the category\n",
    "sales_data.Item_Fat_Content.unique()"
   ]
  },
  {
   "cell_type": "code",
   "execution_count": 11,
   "id": "30d4080f",
   "metadata": {},
   "outputs": [
    {
     "data": {
      "text/plain": [
       "array(['Dairy', 'Soft Drinks', 'Meat', 'Fruits and Vegetables',\n",
       "       'Household', 'Baking Goods', 'Snack Foods', 'Frozen Foods',\n",
       "       'Breakfast', 'Health and Hygiene', 'Hard Drinks', 'Canned',\n",
       "       'Breads', 'Starchy Foods', 'Others', 'Seafood'], dtype=object)"
      ]
     },
     "execution_count": 11,
     "metadata": {},
     "output_type": "execute_result"
    }
   ],
   "source": [
    "# Looks fine But there are a lot of categories to take care\n",
    "sales_data.Item_Type.unique()"
   ]
  },
  {
   "cell_type": "code",
   "execution_count": 12,
   "id": "ec44e01b",
   "metadata": {},
   "outputs": [
    {
     "data": {
      "text/plain": [
       "array([1999, 2009, 1998, 1987, 1985, 2002, 2007, 1997, 2004], dtype=int64)"
      ]
     },
     "execution_count": 12,
     "metadata": {},
     "output_type": "execute_result"
    }
   ],
   "source": [
    "# We can make this a ordinal variable or we can turn it into the data st it show the oldness of the store\n",
    "# Second problem is the data type is of real numbers\n",
    "sales_data.Outlet_Establishment_Year.unique()"
   ]
  },
  {
   "cell_type": "code",
   "execution_count": 13,
   "id": "bb42c891",
   "metadata": {},
   "outputs": [
    {
     "data": {
      "text/plain": [
       "array(['Supermarket Type1', 'Supermarket Type2', 'Grocery Store',\n",
       "       'Supermarket Type3'], dtype=object)"
      ]
     },
     "execution_count": 13,
     "metadata": {},
     "output_type": "execute_result"
    }
   ],
   "source": [
    "sales_data.Outlet_Type.unique()"
   ]
  },
  {
   "cell_type": "code",
   "execution_count": 14,
   "id": "956e1d6e",
   "metadata": {},
   "outputs": [
    {
     "data": {
      "text/plain": [
       "array(['Tier 1', 'Tier 3', 'Tier 2'], dtype=object)"
      ]
     },
     "execution_count": 14,
     "metadata": {},
     "output_type": "execute_result"
    }
   ],
   "source": [
    "sales_data.Outlet_Location_Type.unique()"
   ]
  },
  {
   "cell_type": "code",
   "execution_count": 15,
   "id": "07dd7f8a",
   "metadata": {},
   "outputs": [
    {
     "data": {
      "text/plain": [
       "array(['Medium', nan, 'High', 'Small'], dtype=object)"
      ]
     },
     "execution_count": 15,
     "metadata": {},
     "output_type": "execute_result"
    }
   ],
   "source": [
    "sales_data.Outlet_Size.unique()"
   ]
  },
  {
   "cell_type": "markdown",
   "id": "fb569b9d",
   "metadata": {},
   "source": [
    "### Missing, Zeros, Correlation"
   ]
  },
  {
   "cell_type": "raw",
   "id": "4a473052",
   "metadata": {},
   "source": [
    "profile = ppf.ProfileReport(sales_data)"
   ]
  },
  {
   "cell_type": "raw",
   "id": "1b1c7a55",
   "metadata": {},
   "source": [
    "profile.to_file(\"summary/Profile.html\")"
   ]
  },
  {
   "cell_type": "markdown",
   "id": "f36ecea4",
   "metadata": {},
   "source": [
    "### Issues Found\n",
    "1. Column Item_Identifier seems to have very high cardinality with 1559 categories . It will be very difficult yo get thedummies for this much of categories and the problem of the space taken and the curse of dimensionality are also to be ignored. ----> We will drop this variable\n",
    "2. Item Visiblity have high number of zeros. 6.2% of all the observations\n",
    "3. Item Weight have very high number of missing values almost 17%\n",
    "4. Outlet Size also have very high number of missing values 28.3%\n",
    "5. Outlet establishment year is a categorical variable but is given data type of numeric(Real Number)\n",
    "6. Outlet Identifier which is a categorical variable is highly correlated with other categorical variables Outlet_Location_type, Outlet_Size, Outlet_Size"
   ]
  },
  {
   "cell_type": "markdown",
   "id": "1486f035",
   "metadata": {},
   "source": [
    "### Corrections"
   ]
  },
  {
   "cell_type": "code",
   "execution_count": 16,
   "id": "478f7432",
   "metadata": {},
   "outputs": [
    {
     "data": {
      "text/plain": [
       "array(['Low Fat', 'Regular', 'low fat', 'LF', 'reg'], dtype=object)"
      ]
     },
     "execution_count": 16,
     "metadata": {},
     "output_type": "execute_result"
    }
   ],
   "source": [
    "# This is a categorical variables. But here  the coding is not okay we have to replace the values in this variable\n",
    "sales_data.Item_Fat_Content.unique()"
   ]
  },
  {
   "cell_type": "code",
   "execution_count": 17,
   "id": "002e006b",
   "metadata": {},
   "outputs": [],
   "source": [
    "sales_data.Item_Fat_Content = sales_data.Item_Fat_Content.replace({\"low fat\":\"Low Fat\",\n",
    "                                    \"LF\":\"Low Fat\",\n",
    "                                    \"reg\":\"Regular\"})"
   ]
  },
  {
   "cell_type": "markdown",
   "id": "bd4ae921",
   "metadata": {},
   "source": [
    "### Drop Variables"
   ]
  },
  {
   "cell_type": "code",
   "execution_count": 18,
   "id": "13f8e79a",
   "metadata": {},
   "outputs": [],
   "source": [
    "# Item_Identifier, Outlet_Identifier\n",
    "# Item_Weight have high number of nan values\n",
    "# Item types weren't giving that much significance\n",
    "\n",
    "sales_data.drop([\"Item_Identifier\",\"Outlet_Size\",\"Item_Weight\",\"Item_Type\"],axis=1,inplace= True)"
   ]
  },
  {
   "cell_type": "markdown",
   "id": "64a9811c",
   "metadata": {},
   "source": [
    "### Dummy Variables"
   ]
  },
  {
   "cell_type": "code",
   "execution_count": 19,
   "id": "038c6cd8",
   "metadata": {},
   "outputs": [
    {
     "data": {
      "text/plain": [
       "Index(['Item_Fat_Content', 'Item_Visibility', 'Item_MRP', 'Outlet_Identifier',\n",
       "       'Outlet_Establishment_Year', 'Outlet_Location_Type', 'Outlet_Type',\n",
       "       'Item_Outlet_Sales'],\n",
       "      dtype='object')"
      ]
     },
     "execution_count": 19,
     "metadata": {},
     "output_type": "execute_result"
    }
   ],
   "source": [
    "sales_data.columns"
   ]
  },
  {
   "cell_type": "code",
   "execution_count": 20,
   "id": "13ec595e",
   "metadata": {},
   "outputs": [],
   "source": [
    "sales_data = pd.get_dummies(sales_data,columns=[\"Item_Fat_Content\",\"Outlet_Identifier\",\"Outlet_Location_Type\",\"Outlet_Type\"],drop_first=True)"
   ]
  },
  {
   "cell_type": "code",
   "execution_count": 21,
   "id": "38f2cbb0",
   "metadata": {},
   "outputs": [],
   "source": [
    "col = []\n",
    "for column in sales_data.columns:\n",
    "    col.append(column.replace(\" \",\"_\"))\n",
    "    \n",
    "sales_data.columns = col"
   ]
  },
  {
   "cell_type": "code",
   "execution_count": 22,
   "id": "1830140b",
   "metadata": {},
   "outputs": [
    {
     "data": {
      "text/plain": [
       "Item_Visibility                  0\n",
       "Item_MRP                         0\n",
       "Outlet_Establishment_Year        0\n",
       "Item_Outlet_Sales                0\n",
       "Item_Fat_Content_Regular         0\n",
       "Outlet_Identifier_OUT013         0\n",
       "Outlet_Identifier_OUT017         0\n",
       "Outlet_Identifier_OUT018         0\n",
       "Outlet_Identifier_OUT019         0\n",
       "Outlet_Identifier_OUT027         0\n",
       "Outlet_Identifier_OUT035         0\n",
       "Outlet_Identifier_OUT045         0\n",
       "Outlet_Identifier_OUT046         0\n",
       "Outlet_Identifier_OUT049         0\n",
       "Outlet_Location_Type_Tier_2      0\n",
       "Outlet_Location_Type_Tier_3      0\n",
       "Outlet_Type_Supermarket_Type1    0\n",
       "Outlet_Type_Supermarket_Type2    0\n",
       "Outlet_Type_Supermarket_Type3    0\n",
       "dtype: int64"
      ]
     },
     "execution_count": 22,
     "metadata": {},
     "output_type": "execute_result"
    }
   ],
   "source": [
    "sales_data.isna().sum()"
   ]
  },
  {
   "cell_type": "markdown",
   "id": "4de4013e",
   "metadata": {},
   "source": [
    "### Multicollinerity:  Checking VIF(Variance Inflation Factor)"
   ]
  },
  {
   "cell_type": "code",
   "execution_count": 23,
   "id": "4a15e8de",
   "metadata": {},
   "outputs": [],
   "source": [
    "X =  sales_data[sales_data.columns.difference([\"Item_Outlet_Sales\",\"Outlet_Establishment_Year\"])]"
   ]
  },
  {
   "cell_type": "code",
   "execution_count": 24,
   "id": "820a9bf7",
   "metadata": {},
   "outputs": [
    {
     "name": "stderr",
     "output_type": "stream",
     "text": [
      "F:\\1_Softwares_Installed\\Anaconda\\lib\\site-packages\\statsmodels\\stats\\outliers_influence.py:193: RuntimeWarning: divide by zero encountered in double_scalars\n",
      "  vif = 1. / (1. - r_squared_i)\n"
     ]
    },
    {
     "data": {
      "text/html": [
       "<div>\n",
       "<style scoped>\n",
       "    .dataframe tbody tr th:only-of-type {\n",
       "        vertical-align: middle;\n",
       "    }\n",
       "\n",
       "    .dataframe tbody tr th {\n",
       "        vertical-align: top;\n",
       "    }\n",
       "\n",
       "    .dataframe thead th {\n",
       "        text-align: right;\n",
       "    }\n",
       "</style>\n",
       "<table border=\"1\" class=\"dataframe\">\n",
       "  <thead>\n",
       "    <tr style=\"text-align: right;\">\n",
       "      <th></th>\n",
       "      <th>0</th>\n",
       "      <th>1</th>\n",
       "    </tr>\n",
       "  </thead>\n",
       "  <tbody>\n",
       "    <tr>\n",
       "      <th>1</th>\n",
       "      <td>1.000363</td>\n",
       "      <td>Item_MRP</td>\n",
       "    </tr>\n",
       "    <tr>\n",
       "      <th>0</th>\n",
       "      <td>1.002689</td>\n",
       "      <td>Item_Fat_Content_Regular</td>\n",
       "    </tr>\n",
       "    <tr>\n",
       "      <th>2</th>\n",
       "      <td>1.093086</td>\n",
       "      <td>Item_Visibility</td>\n",
       "    </tr>\n",
       "    <tr>\n",
       "      <th>6</th>\n",
       "      <td>1.632880</td>\n",
       "      <td>Outlet_Identifier_OUT019</td>\n",
       "    </tr>\n",
       "    <tr>\n",
       "      <th>13</th>\n",
       "      <td>9.855496</td>\n",
       "      <td>Outlet_Location_Type_Tier_3</td>\n",
       "    </tr>\n",
       "    <tr>\n",
       "      <th>14</th>\n",
       "      <td>inf</td>\n",
       "      <td>Outlet_Type_Supermarket_Type1</td>\n",
       "    </tr>\n",
       "    <tr>\n",
       "      <th>12</th>\n",
       "      <td>inf</td>\n",
       "      <td>Outlet_Location_Type_Tier_2</td>\n",
       "    </tr>\n",
       "    <tr>\n",
       "      <th>11</th>\n",
       "      <td>inf</td>\n",
       "      <td>Outlet_Identifier_OUT049</td>\n",
       "    </tr>\n",
       "    <tr>\n",
       "      <th>10</th>\n",
       "      <td>inf</td>\n",
       "      <td>Outlet_Identifier_OUT046</td>\n",
       "    </tr>\n",
       "    <tr>\n",
       "      <th>8</th>\n",
       "      <td>inf</td>\n",
       "      <td>Outlet_Identifier_OUT035</td>\n",
       "    </tr>\n",
       "    <tr>\n",
       "      <th>15</th>\n",
       "      <td>inf</td>\n",
       "      <td>Outlet_Type_Supermarket_Type2</td>\n",
       "    </tr>\n",
       "    <tr>\n",
       "      <th>7</th>\n",
       "      <td>inf</td>\n",
       "      <td>Outlet_Identifier_OUT027</td>\n",
       "    </tr>\n",
       "    <tr>\n",
       "      <th>5</th>\n",
       "      <td>inf</td>\n",
       "      <td>Outlet_Identifier_OUT018</td>\n",
       "    </tr>\n",
       "    <tr>\n",
       "      <th>4</th>\n",
       "      <td>inf</td>\n",
       "      <td>Outlet_Identifier_OUT017</td>\n",
       "    </tr>\n",
       "    <tr>\n",
       "      <th>3</th>\n",
       "      <td>inf</td>\n",
       "      <td>Outlet_Identifier_OUT013</td>\n",
       "    </tr>\n",
       "    <tr>\n",
       "      <th>9</th>\n",
       "      <td>inf</td>\n",
       "      <td>Outlet_Identifier_OUT045</td>\n",
       "    </tr>\n",
       "    <tr>\n",
       "      <th>16</th>\n",
       "      <td>inf</td>\n",
       "      <td>Outlet_Type_Supermarket_Type3</td>\n",
       "    </tr>\n",
       "  </tbody>\n",
       "</table>\n",
       "</div>"
      ],
      "text/plain": [
       "           0                              1\n",
       "1   1.000363                       Item_MRP\n",
       "0   1.002689       Item_Fat_Content_Regular\n",
       "2   1.093086                Item_Visibility\n",
       "6   1.632880       Outlet_Identifier_OUT019\n",
       "13  9.855496    Outlet_Location_Type_Tier_3\n",
       "14       inf  Outlet_Type_Supermarket_Type1\n",
       "12       inf    Outlet_Location_Type_Tier_2\n",
       "11       inf       Outlet_Identifier_OUT049\n",
       "10       inf       Outlet_Identifier_OUT046\n",
       "8        inf       Outlet_Identifier_OUT035\n",
       "15       inf  Outlet_Type_Supermarket_Type2\n",
       "7        inf       Outlet_Identifier_OUT027\n",
       "5        inf       Outlet_Identifier_OUT018\n",
       "4        inf       Outlet_Identifier_OUT017\n",
       "3        inf       Outlet_Identifier_OUT013\n",
       "9        inf       Outlet_Identifier_OUT045\n",
       "16       inf  Outlet_Type_Supermarket_Type3"
      ]
     },
     "execution_count": 24,
     "metadata": {},
     "output_type": "execute_result"
    }
   ],
   "source": [
    "pd.concat([pd.Series([variance_inflation_factor(X.values,i) for i in range(len(X.columns))]),pd.Series(X.columns)],axis=1).sort_values(by=0)"
   ]
  },
  {
   "cell_type": "code",
   "execution_count": 25,
   "id": "b375ec30",
   "metadata": {},
   "outputs": [],
   "source": [
    "# Outlet_establishment_year  # VIF=32.78054 ----->> Remove it"
   ]
  },
  {
   "cell_type": "code",
   "execution_count": 26,
   "id": "ad2f8632",
   "metadata": {},
   "outputs": [],
   "source": [
    "## For making the dependent normal in distribution we applied some transformation"
   ]
  },
  {
   "cell_type": "code",
   "execution_count": 27,
   "id": "f9edbfff",
   "metadata": {},
   "outputs": [],
   "source": [
    "Y = np.log(sales_data.Item_Outlet_Sales)+1"
   ]
  },
  {
   "cell_type": "code",
   "execution_count": 28,
   "id": "34e167fd",
   "metadata": {},
   "outputs": [],
   "source": [
    "data = pd.concat([X,Y],axis=1)"
   ]
  },
  {
   "cell_type": "code",
   "execution_count": 29,
   "id": "8ce2cb79",
   "metadata": {},
   "outputs": [
    {
     "name": "stdout",
     "output_type": "stream",
     "text": [
      "<class 'pandas.core.frame.DataFrame'>\n",
      "RangeIndex: 8523 entries, 0 to 8522\n",
      "Data columns (total 18 columns):\n",
      " #   Column                         Non-Null Count  Dtype  \n",
      "---  ------                         --------------  -----  \n",
      " 0   Item_Fat_Content_Regular       8523 non-null   uint8  \n",
      " 1   Item_MRP                       8523 non-null   float64\n",
      " 2   Item_Visibility                8523 non-null   float64\n",
      " 3   Outlet_Identifier_OUT013       8523 non-null   uint8  \n",
      " 4   Outlet_Identifier_OUT017       8523 non-null   uint8  \n",
      " 5   Outlet_Identifier_OUT018       8523 non-null   uint8  \n",
      " 6   Outlet_Identifier_OUT019       8523 non-null   uint8  \n",
      " 7   Outlet_Identifier_OUT027       8523 non-null   uint8  \n",
      " 8   Outlet_Identifier_OUT035       8523 non-null   uint8  \n",
      " 9   Outlet_Identifier_OUT045       8523 non-null   uint8  \n",
      " 10  Outlet_Identifier_OUT046       8523 non-null   uint8  \n",
      " 11  Outlet_Identifier_OUT049       8523 non-null   uint8  \n",
      " 12  Outlet_Location_Type_Tier_2    8523 non-null   uint8  \n",
      " 13  Outlet_Location_Type_Tier_3    8523 non-null   uint8  \n",
      " 14  Outlet_Type_Supermarket_Type1  8523 non-null   uint8  \n",
      " 15  Outlet_Type_Supermarket_Type2  8523 non-null   uint8  \n",
      " 16  Outlet_Type_Supermarket_Type3  8523 non-null   uint8  \n",
      " 17  Item_Outlet_Sales              8523 non-null   float64\n",
      "dtypes: float64(3), uint8(15)\n",
      "memory usage: 324.7 KB\n"
     ]
    }
   ],
   "source": [
    "data.info()"
   ]
  },
  {
   "cell_type": "markdown",
   "id": "e6c4418b",
   "metadata": {},
   "source": [
    "# Outliert Treatment\n",
    "def outlier_treat(x):\n",
    "    x = x.clip(lower=x.quantile(0.01),upper = x.quantile(0.99))\n",
    "    return x\n",
    "X = X.apply(outlier_treat,axis=1)"
   ]
  },
  {
   "cell_type": "markdown",
   "id": "87bf2c68",
   "metadata": {},
   "source": [
    "Y = pd.DataFrame(Y).apply(outlier_treat)"
   ]
  },
  {
   "cell_type": "code",
   "execution_count": 30,
   "id": "44db7a0b",
   "metadata": {},
   "outputs": [],
   "source": [
    "# Converting data to standard scale, (z-Score)"
   ]
  },
  {
   "cell_type": "code",
   "execution_count": 31,
   "id": "c6a89147",
   "metadata": {},
   "outputs": [
    {
     "name": "stdout",
     "output_type": "stream",
     "text": [
      "Train set: (6818, 17) (6818,)\n",
      "Test set: (1705, 17) (1705,)\n"
     ]
    }
   ],
   "source": [
    "### Train/Test Split\n",
    "X_train, X_test, y_train, y_test = train_test_split(X,Y,test_size=0.2,random_state=123)\n",
    "print ('Train set:', X_train.shape,  y_train.shape)\n",
    "print ('Test set:', X_test.shape,  y_test.shape)"
   ]
  },
  {
   "cell_type": "markdown",
   "id": "883eb57f",
   "metadata": {},
   "source": [
    "## OLS Method"
   ]
  },
  {
   "cell_type": "code",
   "execution_count": 32,
   "id": "393b9b8b",
   "metadata": {},
   "outputs": [
    {
     "data": {
      "text/plain": [
       "'Item_Fat_Content_Regular+Item_MRP+Item_Visibility+Outlet_Identifier_OUT013+Outlet_Identifier_OUT017+Outlet_Identifier_OUT018+Outlet_Identifier_OUT019+Outlet_Identifier_OUT027+Outlet_Identifier_OUT035+Outlet_Identifier_OUT045+Outlet_Identifier_OUT046+Outlet_Identifier_OUT049+Outlet_Location_Type_Tier_2+Outlet_Location_Type_Tier_3+Outlet_Type_Supermarket_Type1+Outlet_Type_Supermarket_Type2+Outlet_Type_Supermarket_Type3+Item_Outlet_Sales'"
      ]
     },
     "execution_count": 32,
     "metadata": {},
     "output_type": "execute_result"
    }
   ],
   "source": [
    "\"+\".join(data.columns)"
   ]
  },
  {
   "cell_type": "markdown",
   "id": "5218f895",
   "metadata": {},
   "source": [
    "### Without removing columns\n",
    "modal = smf.ols(\"Item_Outlet_Sales~Item_Fat_Content_Regular+Item_MRP+Item_Type_Breads+Item_Type_Breakfast+Item_Type_Canned+Item_Type_Dairy+Item_Type_Frozen_Foods+Item_Type_Fruits_and_Vegetables+Item_Type_Hard_Drinks+Item_Type_Health_and_Hygiene+Item_Type_Household+Item_Type_Meat+Item_Type_Others+Item_Type_Seafood+Item_Type_Snack_Foods+Item_Type_Soft_Drinks+Item_Type_Starchy_Foods+Item_Visibility+Outlet_Location_Type_Tier_2+Outlet_Location_Type_Tier_3+Outlet_Type_Supermarket_Type1+Outlet_Type_Supermarket_Type2+Outlet_Type_Supermarket_Type3\",data=data).fit()"
   ]
  },
  {
   "cell_type": "code",
   "execution_count": 33,
   "id": "2f217c94",
   "metadata": {},
   "outputs": [],
   "source": [
    "modal = smf.ols(\"Item_Outlet_Sales~Item_Fat_Content_Regular+Item_MRP+Item_Visibility+Outlet_Identifier_OUT013+Outlet_Identifier_OUT017+Outlet_Identifier_OUT018+Outlet_Identifier_OUT019+Outlet_Identifier_OUT027+Outlet_Identifier_OUT035+Outlet_Identifier_OUT045+Outlet_Identifier_OUT046+Outlet_Identifier_OUT049+Outlet_Location_Type_Tier_2+Outlet_Location_Type_Tier_3+Outlet_Type_Supermarket_Type1+Outlet_Type_Supermarket_Type2+Outlet_Type_Supermarket_Type3\",data=data).fit()"
   ]
  },
  {
   "cell_type": "code",
   "execution_count": 34,
   "id": "8d5e7938",
   "metadata": {
    "scrolled": true
   },
   "outputs": [
    {
     "name": "stdout",
     "output_type": "stream",
     "text": [
      "                            OLS Regression Results                            \n",
      "==============================================================================\n",
      "Dep. Variable:      Item_Outlet_Sales   R-squared:                       0.721\n",
      "Model:                            OLS   Adj. R-squared:                  0.720\n",
      "Method:                 Least Squares   F-statistic:                     1829.\n",
      "Date:                Mon, 23 Aug 2021   Prob (F-statistic):               0.00\n",
      "Time:                        11:35:10   Log-Likelihood:                -6804.0\n",
      "No. Observations:                8523   AIC:                         1.363e+04\n",
      "Df Residuals:                    8510   BIC:                         1.373e+04\n",
      "Df Model:                          12                                         \n",
      "Covariance Type:            nonrobust                                         \n",
      "=================================================================================================\n",
      "                                    coef    std err          t      P>|t|      [0.025      0.975]\n",
      "-------------------------------------------------------------------------------------------------\n",
      "Intercept                         4.3653      0.017    251.252      0.000       4.331       4.399\n",
      "Item_Fat_Content_Regular          0.0159      0.012      1.304      0.192      -0.008       0.040\n",
      "Item_MRP                          0.0083   9.36e-05     88.671      0.000       0.008       0.008\n",
      "Item_Visibility                  -0.0714      0.118     -0.605      0.545      -0.303       0.160\n",
      "Outlet_Identifier_OUT013         -0.1984      0.019    -10.394      0.000      -0.236      -0.161\n",
      "Outlet_Identifier_OUT017          0.2280      0.015     15.516      0.000       0.199       0.257\n",
      "Outlet_Identifier_OUT018          0.8927      0.015     61.014      0.000       0.864       0.921\n",
      "Outlet_Identifier_OUT019          1.0337      0.021     49.744      0.000       0.993       1.074\n",
      "Outlet_Identifier_OUT027          1.2476      0.015     85.249      0.000       1.219       1.276\n",
      "Outlet_Identifier_OUT035          0.2521      0.015     17.171      0.000       0.223       0.281\n",
      "Outlet_Identifier_OUT045          0.1555      0.015     10.593      0.000       0.127       0.184\n",
      "Outlet_Identifier_OUT046          0.8238      0.015     56.342      0.000       0.795       0.853\n",
      "Outlet_Identifier_OUT049          0.8688      0.015     59.472      0.000       0.840       0.897\n",
      "Outlet_Location_Type_Tier_2       0.6356      0.008     75.992      0.000       0.619       0.652\n",
      "Outlet_Location_Type_Tier_3       1.0032      0.016     61.350      0.000       0.971       1.035\n",
      "Outlet_Type_Supermarket_Type1     2.1299      0.013    170.077      0.000       2.105       2.154\n",
      "Outlet_Type_Supermarket_Type2     0.8927      0.015     61.014      0.000       0.864       0.921\n",
      "Outlet_Type_Supermarket_Type3     1.2476      0.015     85.249      0.000       1.219       1.276\n",
      "==============================================================================\n",
      "Omnibus:                      821.214   Durbin-Watson:                   2.008\n",
      "Prob(Omnibus):                  0.000   Jarque-Bera (JB):             1148.632\n",
      "Skew:                          -0.771   Prob(JB):                    3.78e-250\n",
      "Kurtosis:                       3.925   Cond. No.                     2.87e+18\n",
      "==============================================================================\n",
      "\n",
      "Notes:\n",
      "[1] Standard Errors assume that the covariance matrix of the errors is correctly specified.\n",
      "[2] The smallest eigenvalue is 2.46e-29. This might indicate that there are\n",
      "strong multicollinearity problems or that the design matrix is singular.\n"
     ]
    }
   ],
   "source": [
    "print(modal.summary())"
   ]
  },
  {
   "cell_type": "code",
   "execution_count": 35,
   "id": "c3814f96",
   "metadata": {},
   "outputs": [],
   "source": [
    "y_hat = modal.predict(X_test)"
   ]
  },
  {
   "cell_type": "code",
   "execution_count": 36,
   "id": "02160620",
   "metadata": {},
   "outputs": [
    {
     "name": "stdout",
     "output_type": "stream",
     "text": [
      "Mean Absolute Percentage Error (Training Data) :  0.05268335561298483\n",
      "Mean Absolute Percentage Error (Test Data) : 0.05298668715084187\n"
     ]
    }
   ],
   "source": [
    "print(\"Mean Absolute Percentage Error (Training Data) : \",np.mean(np.abs(modal.predict(X_train)-y_train)/y_train))\n",
    "print(\"Mean Absolute Percentage Error (Test Data) :\",np.mean(np.abs(y_hat-y_test)/y_test))"
   ]
  },
  {
   "cell_type": "code",
   "execution_count": 37,
   "id": "07d1510a",
   "metadata": {},
   "outputs": [
    {
     "name": "stdout",
     "output_type": "stream",
     "text": [
      "Root Mean Squared Error (Train Data) : 0.5388228909291324\n",
      "Root Mean Squared Error (Test Data) : 0.5327242585557084\n"
     ]
    }
   ],
   "source": [
    "print(\"Root Mean Squared Error (Train Data) :\", np.sqrt(np.mean((y_train-modal.predict(X_train))**2)))\n",
    "print(\"Root Mean Squared Error (Test Data) :\",np.sqrt(np.mean((y_test-y_hat)**2)))"
   ]
  },
  {
   "cell_type": "markdown",
   "id": "2a8e403d",
   "metadata": {},
   "source": [
    "## Linear Regression"
   ]
  },
  {
   "cell_type": "code",
   "execution_count": 38,
   "id": "c5bdfc59",
   "metadata": {},
   "outputs": [],
   "source": [
    "simple_lr_model = LinearRegression()"
   ]
  },
  {
   "cell_type": "code",
   "execution_count": 39,
   "id": "2d52748e",
   "metadata": {},
   "outputs": [
    {
     "data": {
      "text/plain": [
       "LinearRegression()"
      ]
     },
     "execution_count": 39,
     "metadata": {},
     "output_type": "execute_result"
    }
   ],
   "source": [
    "simple_lr_model.fit(X_train,y_train)"
   ]
  },
  {
   "cell_type": "code",
   "execution_count": 40,
   "id": "b7263af3",
   "metadata": {},
   "outputs": [],
   "source": [
    "y_hat = simple_lr_model.predict(X_test)"
   ]
  },
  {
   "cell_type": "code",
   "execution_count": 41,
   "id": "93eaf00a",
   "metadata": {},
   "outputs": [],
   "source": [
    "### The estimation of accuracy of model"
   ]
  },
  {
   "cell_type": "code",
   "execution_count": 42,
   "id": "6f6bd916",
   "metadata": {},
   "outputs": [
    {
     "name": "stdout",
     "output_type": "stream",
     "text": [
      "Mean Absolute Percentage Error (Train Data) : 0.05264376822256627\n",
      "Mean Absolute Percentage Error (Test Data) : 0.0530427190782039\n"
     ]
    }
   ],
   "source": [
    "print(\"Mean Absolute Percentage Error (Train Data) :\", np.mean(np.abs(y_train-simple_lr_model.predict(X_train))/y_train))\n",
    "print(\"Mean Absolute Percentage Error (Test Data) :\",np.mean((np.abs(y_test-y_hat))/y_test))"
   ]
  },
  {
   "cell_type": "code",
   "execution_count": 43,
   "id": "0a70700a",
   "metadata": {},
   "outputs": [],
   "source": [
    "### RMSE to compare models"
   ]
  },
  {
   "cell_type": "code",
   "execution_count": 44,
   "id": "a7da9721",
   "metadata": {},
   "outputs": [
    {
     "name": "stdout",
     "output_type": "stream",
     "text": [
      "Root Mean Squared Error (Train Data) : 0.538761090180855\n",
      "Root Mean Squared Error (Test Data) : 0.5332847588069358\n"
     ]
    }
   ],
   "source": [
    "print(\"Root Mean Squared Error (Train Data) :\", np.sqrt(np.mean((y_train-simple_lr_model.predict(X_train))**2)))\n",
    "print(\"Root Mean Squared Error (Test Data) :\",np.sqrt(np.mean((y_test-y_hat)**2)))"
   ]
  },
  {
   "cell_type": "code",
   "execution_count": 45,
   "id": "7bd9a662",
   "metadata": {},
   "outputs": [
    {
     "data": {
      "text/plain": [
       "array([ 0.00591569,  0.00831978, -0.03546757,  0.61017103,  0.08206464,\n",
       "        0.89062739, -0.34371411,  1.24563867,  0.10734175,  0.01208168,\n",
       "        0.24420873,  0.27703327,  0.20148807, -0.37901596,  1.33290109,\n",
       "        0.89062739,  1.24563867])"
      ]
     },
     "execution_count": 45,
     "metadata": {},
     "output_type": "execute_result"
    }
   ],
   "source": [
    "simple_lr_model.coef_"
   ]
  },
  {
   "cell_type": "code",
   "execution_count": 46,
   "id": "99f52420",
   "metadata": {},
   "outputs": [
    {
     "data": {
      "text/plain": [
       "array([ 840.72015383,  324.81072767, 2802.27946174, ...,  346.41667917,\n",
       "       4564.87062507, 1991.495448  ])"
      ]
     },
     "execution_count": 46,
     "metadata": {},
     "output_type": "execute_result"
    }
   ],
   "source": [
    "np.exp(y_hat-1)"
   ]
  },
  {
   "cell_type": "code",
   "execution_count": 48,
   "id": "8fb87a50",
   "metadata": {},
   "outputs": [],
   "source": [
    "pred = np.exp(y_hat-1)"
   ]
  },
  {
   "cell_type": "code",
   "execution_count": 49,
   "id": "c79b86b1",
   "metadata": {},
   "outputs": [
    {
     "data": {
      "text/plain": [
       "array([ 840.72015383,  324.81072767, 2802.27946174, ...,  346.41667917,\n",
       "       4564.87062507, 1991.495448  ])"
      ]
     },
     "execution_count": 49,
     "metadata": {},
     "output_type": "execute_result"
    }
   ],
   "source": [
    "pred"
   ]
  },
  {
   "cell_type": "code",
   "execution_count": 62,
   "id": "6f40e321",
   "metadata": {},
   "outputs": [],
   "source": [
    "actual = np.exp(y_test-1)\n",
    "actual = actual.reset_index()"
   ]
  },
  {
   "cell_type": "code",
   "execution_count": 70,
   "id": "0de7fc18",
   "metadata": {},
   "outputs": [
    {
     "data": {
      "text/html": [
       "<div>\n",
       "<style scoped>\n",
       "    .dataframe tbody tr th:only-of-type {\n",
       "        vertical-align: middle;\n",
       "    }\n",
       "\n",
       "    .dataframe tbody tr th {\n",
       "        vertical-align: top;\n",
       "    }\n",
       "\n",
       "    .dataframe thead th {\n",
       "        text-align: right;\n",
       "    }\n",
       "</style>\n",
       "<table border=\"1\" class=\"dataframe\">\n",
       "  <thead>\n",
       "    <tr style=\"text-align: right;\">\n",
       "      <th></th>\n",
       "      <th>pred</th>\n",
       "      <th>actual</th>\n",
       "    </tr>\n",
       "  </thead>\n",
       "  <tbody>\n",
       "    <tr>\n",
       "      <th>1477</th>\n",
       "      <td>8515.287123</td>\n",
       "      <td>6872.3876</td>\n",
       "    </tr>\n",
       "    <tr>\n",
       "      <th>1196</th>\n",
       "      <td>8288.499914</td>\n",
       "      <td>5697.9164</td>\n",
       "    </tr>\n",
       "    <tr>\n",
       "      <th>81</th>\n",
       "      <td>8236.415566</td>\n",
       "      <td>8028.8822</td>\n",
       "    </tr>\n",
       "    <tr>\n",
       "      <th>976</th>\n",
       "      <td>8103.839923</td>\n",
       "      <td>7433.6570</td>\n",
       "    </tr>\n",
       "    <tr>\n",
       "      <th>890</th>\n",
       "      <td>8044.862882</td>\n",
       "      <td>4346.3424</td>\n",
       "    </tr>\n",
       "  </tbody>\n",
       "</table>\n",
       "</div>"
      ],
      "text/plain": [
       "             pred     actual\n",
       "1477  8515.287123  6872.3876\n",
       "1196  8288.499914  5697.9164\n",
       "81    8236.415566  8028.8822\n",
       "976   8103.839923  7433.6570\n",
       "890   8044.862882  4346.3424"
      ]
     },
     "execution_count": 70,
     "metadata": {},
     "output_type": "execute_result"
    }
   ],
   "source": [
    "decile = pd.concat([pd.Series(pred),actual.Item_Outlet_Sales],axis=1)\n",
    "decile.columns = [\"pred\",\"actual\"]\n",
    "decile.sort_values(by=\"pred\",ascending=False,inplace=True)\n",
    "decile.head()"
   ]
  },
  {
   "cell_type": "code",
   "execution_count": 71,
   "id": "0dabad51",
   "metadata": {},
   "outputs": [],
   "source": [
    "decile[\"decile\"] = pd.qcut(decile.pred,10,labels=False) "
   ]
  },
  {
   "cell_type": "code",
   "execution_count": 72,
   "id": "b16107da",
   "metadata": {},
   "outputs": [
    {
     "data": {
      "text/html": [
       "<div>\n",
       "<style scoped>\n",
       "    .dataframe tbody tr th:only-of-type {\n",
       "        vertical-align: middle;\n",
       "    }\n",
       "\n",
       "    .dataframe tbody tr th {\n",
       "        vertical-align: top;\n",
       "    }\n",
       "\n",
       "    .dataframe thead th {\n",
       "        text-align: right;\n",
       "    }\n",
       "</style>\n",
       "<table border=\"1\" class=\"dataframe\">\n",
       "  <thead>\n",
       "    <tr style=\"text-align: right;\">\n",
       "      <th></th>\n",
       "      <th>pred</th>\n",
       "      <th>actual</th>\n",
       "    </tr>\n",
       "    <tr>\n",
       "      <th>decile</th>\n",
       "      <th></th>\n",
       "      <th></th>\n",
       "    </tr>\n",
       "  </thead>\n",
       "  <tbody>\n",
       "    <tr>\n",
       "      <th>0</th>\n",
       "      <td>210.207004</td>\n",
       "      <td>257.232414</td>\n",
       "    </tr>\n",
       "    <tr>\n",
       "      <th>1</th>\n",
       "      <td>655.586261</td>\n",
       "      <td>600.806171</td>\n",
       "    </tr>\n",
       "    <tr>\n",
       "      <th>2</th>\n",
       "      <td>964.741519</td>\n",
       "      <td>1005.315171</td>\n",
       "    </tr>\n",
       "    <tr>\n",
       "      <th>3</th>\n",
       "      <td>1269.200954</td>\n",
       "      <td>1551.678232</td>\n",
       "    </tr>\n",
       "    <tr>\n",
       "      <th>4</th>\n",
       "      <td>1496.742991</td>\n",
       "      <td>1795.140862</td>\n",
       "    </tr>\n",
       "    <tr>\n",
       "      <th>5</th>\n",
       "      <td>1851.567162</td>\n",
       "      <td>2321.010132</td>\n",
       "    </tr>\n",
       "    <tr>\n",
       "      <th>6</th>\n",
       "      <td>2213.712693</td>\n",
       "      <td>2597.704862</td>\n",
       "    </tr>\n",
       "    <tr>\n",
       "      <th>7</th>\n",
       "      <td>2605.503484</td>\n",
       "      <td>3114.211363</td>\n",
       "    </tr>\n",
       "    <tr>\n",
       "      <th>8</th>\n",
       "      <td>3409.878394</td>\n",
       "      <td>3672.059325</td>\n",
       "    </tr>\n",
       "    <tr>\n",
       "      <th>9</th>\n",
       "      <td>4950.844518</td>\n",
       "      <td>4501.649011</td>\n",
       "    </tr>\n",
       "  </tbody>\n",
       "</table>\n",
       "</div>"
      ],
      "text/plain": [
       "               pred       actual\n",
       "decile                          \n",
       "0        210.207004   257.232414\n",
       "1        655.586261   600.806171\n",
       "2        964.741519  1005.315171\n",
       "3       1269.200954  1551.678232\n",
       "4       1496.742991  1795.140862\n",
       "5       1851.567162  2321.010132\n",
       "6       2213.712693  2597.704862\n",
       "7       2605.503484  3114.211363\n",
       "8       3409.878394  3672.059325\n",
       "9       4950.844518  4501.649011"
      ]
     },
     "execution_count": 72,
     "metadata": {},
     "output_type": "execute_result"
    }
   ],
   "source": [
    "decile.groupby(\"decile\").mean()"
   ]
  },
  {
   "cell_type": "code",
   "execution_count": null,
   "id": "6eb01ff6",
   "metadata": {},
   "outputs": [],
   "source": []
  },
  {
   "cell_type": "code",
   "execution_count": 75,
   "id": "a9a3b591",
   "metadata": {},
   "outputs": [
    {
     "name": "stdout",
     "output_type": "stream",
     "text": [
      "MSE :  0.3496428005966545\n"
     ]
    }
   ],
   "source": [
    "rf = ExtraTreesRegressor()\n",
    "rf.fit(X_train,y_train)\n",
    "y_pred = rf.predict(X_test)\n",
    "mse = mean_squared_error(y_test,y_pred)\n",
    "print(\"MSE : \", mse)"
   ]
  },
  {
   "cell_type": "code",
   "execution_count": null,
   "id": "0ba57402",
   "metadata": {},
   "outputs": [],
   "source": []
  },
  {
   "cell_type": "code",
   "execution_count": null,
   "id": "6e4b15e0",
   "metadata": {},
   "outputs": [],
   "source": []
  }
 ],
 "metadata": {
  "kernelspec": {
   "display_name": "Python 3",
   "language": "python",
   "name": "python3"
  },
  "language_info": {
   "codemirror_mode": {
    "name": "ipython",
    "version": 3
   },
   "file_extension": ".py",
   "mimetype": "text/x-python",
   "name": "python",
   "nbconvert_exporter": "python",
   "pygments_lexer": "ipython3",
   "version": "3.8.8"
  }
 },
 "nbformat": 4,
 "nbformat_minor": 5
}
